{
 "cells": [
  {
   "cell_type": "code",
   "execution_count": 1,
   "id": "e0c1a14e-6de8-4891-872e-38786984ee62",
   "metadata": {},
   "outputs": [],
   "source": [
    "import torch\n",
    "import torch.nn as nn\n",
    "import torch.nn.functional as F\n",
    "import torch.optim as optim\n",
    "import torchvision\n",
    "import matplotlib.pyplot as plt"
   ]
  },
  {
   "cell_type": "code",
   "execution_count": 2,
   "id": "bb52a126-5b69-4356-8b0e-6b7a68185d7b",
   "metadata": {},
   "outputs": [],
   "source": [
    "mnist_train = torch.utils.data.DataLoader(\n",
    "  torchvision.datasets.MNIST('./files/', train=True, download=True,\n",
    "                             transform=torchvision.transforms.Compose([\n",
    "                               torchvision.transforms.ToTensor(),\n",
    "                               torchvision.transforms.Normalize(\n",
    "                                 (0.1307,), (0.3081,))\n",
    "                             ])),\n",
    "  batch_size=64, shuffle=True)\n",
    "\n",
    "mnist_test = torch.utils.data.DataLoader(\n",
    "  torchvision.datasets.MNIST('./files/', train=False, download=True,\n",
    "                             transform=torchvision.transforms.Compose([\n",
    "                               torchvision.transforms.ToTensor(),\n",
    "                               torchvision.transforms.Normalize(\n",
    "                                 (0.1307,), (0.3081,))\n",
    "                             ])),\n",
    "  batch_size=64, shuffle=True)"
   ]
  },
  {
   "cell_type": "code",
   "execution_count": 3,
   "id": "7b4a1907-5bf7-4bf2-9a6e-849bc1625174",
   "metadata": {},
   "outputs": [],
   "source": [
    "class Net1(nn.Module):\n",
    "        def __init__(self):\n",
    "            super(Net1, self).__init__()\n",
    "            self.fc1 = nn.Linear(28 * 28, 10)\n",
    "            self.fc2 = nn.Linear(10, 15)\n",
    "            self.fc3 = nn.Linear(15, 10)\n",
    "           \n",
    "\n",
    "        def forward(self, x):\n",
    "            x = x.view(-1, 28 * 28)\n",
    "            x = nn.functional.relu(self.fc1(x))\n",
    "            x = nn.functional.relu(self.fc2(x))\n",
    "            x = self.fc3(x)\n",
    "            return x\n",
    "        \n",
    "class Net2(nn.Module):\n",
    "        def __init__(self):\n",
    "            super(Net2, self).__init__()\n",
    "            self.fc1 = nn.Linear(28 * 28, 30)\n",
    "            self.fc2 = nn.Linear(30, 30)\n",
    "            self.fc3 = nn.Linear(30, 10)\n",
    "\n",
    "        def forward(self, x):\n",
    "            x = x.view(-1, 28 * 28)\n",
    "            x = nn.functional.relu(self.fc1(x))\n",
    "            x = nn.functional.relu(self.fc2(x))\n",
    "            x = self.fc3(x)\n",
    "            return x\n",
    "        \n",
    "class Net3(nn.Module):\n",
    "        def __init__(self):\n",
    "            super(Net3, self).__init__()\n",
    "            self.fc1 = nn.Linear(28 * 28, 50)\n",
    "            self.fc2 = nn.Linear(50, 80)\n",
    "            self.fc3 = nn.Linear(80, 10)\n",
    "\n",
    "        def forward(self, x):\n",
    "            x = x.view(-1, 28 * 28)\n",
    "            x = nn.functional.relu(self.fc1(x))\n",
    "            x = nn.functional.relu(self.fc2(x))\n",
    "            x = self.fc3(x)\n",
    "            return x\n",
    "        \n",
    "class Net4(nn.Module):\n",
    "        def __init__(self):\n",
    "            super(Net4, self).__init__()\n",
    "            self.fc1 = nn.Linear(28 * 28, 72)\n",
    "            self.fc2 = nn.Linear(72, 108)\n",
    "            self.fc3 = nn.Linear(108, 10)\n",
    "\n",
    "\n",
    "        def forward(self, x):\n",
    "            x = x.view(-1, 28 * 28)\n",
    "            x = nn.functional.relu(self.fc1(x))\n",
    "            x = nn.functional.relu(self.fc2(x))\n",
    "            x = self.fc3(x)\n",
    "            return x\n",
    "\n",
    "class Net5(nn.Module):\n",
    "        def __init__(self):\n",
    "            super(Net5, self).__init__()\n",
    "            self.fc1 = nn.Linear(28 * 28, 100)\n",
    "            self.fc2 = nn.Linear(100, 180)\n",
    "            self.fc3 = nn.Linear(180, 10)\n",
    "        \n",
    "\n",
    "        def forward(self, x):\n",
    "            x = x.view(-1, 28 * 28)\n",
    "            x = nn.functional.relu(self.fc1(x))\n",
    "            x = nn.functional.relu(self.fc2(x))\n",
    "            x = self.fc3(x)\n",
    "            return x\n",
    "\n",
    "class Net6(nn.Module):\n",
    "        def __init__(self):\n",
    "            super(Net6, self).__init__()\n",
    "            self.fc1 = nn.Linear(28 * 28, 150)\n",
    "            self.fc2 = nn.Linear(150, 250)\n",
    "            self.fc3 = nn.Linear(250, 10)\n",
    "\n",
    "        def forward(self, x):\n",
    "            x = x.view(-1, 28 * 28)\n",
    "            x = nn.functional.relu(self.fc1(x))\n",
    "            x = nn.functional.relu(self.fc2(x))\n",
    "            x = self.fc3(x)\n",
    "            return x"
   ]
  },
  {
   "cell_type": "code",
   "execution_count": 4,
   "id": "8f88661a-f6b3-40b2-bf6d-ae80a089aef7",
   "metadata": {},
   "outputs": [],
   "source": [
    "class Net7(nn.Module):\n",
    "        def __init__(self):\n",
    "            super(Net7, self).__init__()\n",
    "            self.fc1 = nn.Linear(28 * 28, 200)\n",
    "            self.fc2 = nn.Linear(200, 350)\n",
    "            self.fc3 = nn.Linear(350, 10)\n",
    "\n",
    "        def forward(self, x):\n",
    "            x = x.view(-1, 28 * 28)\n",
    "            x = nn.functional.relu(self.fc1(x))\n",
    "            x = nn.functional.relu(self.fc2(x))\n",
    "            x = self.fc3(x)\n",
    "            return x\n",
    "        \n",
    "class Net8(nn.Module):\n",
    "        def __init__(self):\n",
    "            super(Net8, self).__init__()\n",
    "            self.fc1 = nn.Linear(28 * 28, 240)\n",
    "            self.fc2 = nn.Linear(240, 450)\n",
    "            self.fc3 = nn.Linear(450, 10)\n",
    "\n",
    "        def forward(self, x):\n",
    "            x = x.view(-1, 28 * 28)\n",
    "            x = nn.functional.relu(self.fc1(x))\n",
    "            x = nn.functional.relu(self.fc2(x))\n",
    "            x = self.fc3(x)\n",
    "            return x\n",
    "\n",
    "class Net9(nn.Module):\n",
    "        def __init__(self):\n",
    "            super(Net9, self).__init__()\n",
    "            self.fc1 = nn.Linear(28 * 28, 280)\n",
    "            self.fc2 = nn.Linear(280, 550)\n",
    "            self.fc3 = nn.Linear(550, 10)\n",
    "\n",
    "        def forward(self, x):\n",
    "            x = x.view(-1, 28 * 28)\n",
    "            x = nn.functional.relu(self.fc1(x))\n",
    "            x = nn.functional.relu(self.fc2(x))\n",
    "            x = self.fc3(x)\n",
    "            return x\n",
    "\n",
    "class Net10(nn.Module):\n",
    "        def __init__(self):\n",
    "            super(Net10, self).__init__()\n",
    "            self.fc1 = nn.Linear(28 * 28, 300)\n",
    "            self.fc2 = nn.Linear(300, 650)\n",
    "            self.fc3 = nn.Linear(650, 10)\n",
    "\n",
    "        def forward(self, x):\n",
    "            x = x.view(-1, 28 * 28)\n",
    "            x = nn.functional.relu(self.fc1(x))\n",
    "            x = nn.functional.relu(self.fc2(x))\n",
    "            x = self.fc3(x)\n",
    "            return x"
   ]
  },
  {
   "cell_type": "code",
   "execution_count": 5,
   "id": "8ba05035-fb43-4d07-9908-892258939f98",
   "metadata": {},
   "outputs": [],
   "source": [
    "def loss_accu(model):\n",
    "    num_param = sum([p.numel() for p in model.parameters()])\n",
    "    criterion = nn.CrossEntropyLoss()\n",
    "    optimizer = optim.SGD(model.parameters(), lr=0.01)\n",
    "    \n",
    "    for epoch in range(10):\n",
    "        running_loss = 0.0\n",
    "        running_correct = 0\n",
    "        for i, data in enumerate(mnist_train, 0):\n",
    "            inputs, labels = data\n",
    "            optimizer.zero_grad()\n",
    "            outputs = model(inputs)\n",
    "            loss = criterion(outputs, labels)\n",
    "            loss.backward()\n",
    "            optimizer.step()\n",
    "            running_loss += loss.item()\n",
    "            _, predicted = torch.max(outputs.data, 1)\n",
    "            running_correct += (predicted == labels).sum().item()\n",
    "    train_loss = (running_loss / len(mnist_train))\n",
    "    train_accuracy = (running_correct / len(mnist_train.dataset))\n",
    "    \n",
    "    test_loss = 0.0\n",
    "    test_correct = 0\n",
    "    with torch.no_grad():\n",
    "        for data in mnist_test:\n",
    "            inputs, labels = data\n",
    "            outputs = model(inputs)\n",
    "            loss = criterion(outputs, labels)\n",
    "            test_loss += loss.item()\n",
    "            _, predicted = torch.max(outputs.data, 1)\n",
    "            test_correct += (predicted == labels).sum().item()\n",
    "    test_loss /= len(mnist_test)\n",
    "    test_accuracy = test_correct / len(mnist_test.dataset)\n",
    "    return train_loss, train_accuracy, test_loss, test_accuracy,  num_param"
   ]
  },
  {
   "cell_type": "code",
   "execution_count": 6,
   "id": "217b932f-79ea-4325-96a3-8ce5b06b5a86",
   "metadata": {},
   "outputs": [],
   "source": [
    "train_losses = []\n",
    "train_accuracies = []\n",
    "test_losses = []\n",
    "test_accuracies = []\n",
    "param_num = []"
   ]
  },
  {
   "cell_type": "code",
   "execution_count": 7,
   "id": "482f4a57-3adf-4290-8eaf-213b7b53a86e",
   "metadata": {},
   "outputs": [],
   "source": [
    "model1 = Net1()\n",
    "train_loss, train_accuracy, test_loss, test_accuracy,  num_param = loss_accu(model1)"
   ]
  },
  {
   "cell_type": "code",
   "execution_count": 8,
   "id": "887b2b30-4377-40b3-be39-de762a147734",
   "metadata": {},
   "outputs": [
    {
     "name": "stdout",
     "output_type": "stream",
     "text": [
      "0.23064570768730347 0.9337666666666666 0.23964047161447014 0.927 8175\n"
     ]
    }
   ],
   "source": [
    "train_losses.append(train_loss)\n",
    "train_accuracies.append(train_accuracy)\n",
    "test_losses.append(test_loss)\n",
    "test_accuracies.append(test_accuracy)\n",
    "param_num.append(num_param)\n",
    "print(train_loss, train_accuracy, test_loss, test_accuracy,  num_param)"
   ]
  },
  {
   "cell_type": "code",
   "execution_count": 9,
   "id": "82d1e17a-48bb-45ac-b30b-558fa23c94dc",
   "metadata": {},
   "outputs": [
    {
     "name": "stdout",
     "output_type": "stream",
     "text": [
      "0.16252381754105788 0.9532333333333334 0.16253455404405762 0.9526 24790\n"
     ]
    }
   ],
   "source": [
    "model2 = Net2()\n",
    "train_loss2, train_accuracy2, test_loss2, test_accuracy2,  num_param2 = loss_accu(model2)\n",
    "print(train_loss2, train_accuracy2, test_loss2, test_accuracy2,  num_param2)"
   ]
  },
  {
   "cell_type": "code",
   "execution_count": 10,
   "id": "1bfb1384-b522-4045-9a1a-32ea6c2851b8",
   "metadata": {},
   "outputs": [],
   "source": [
    "train_losses.append(train_loss2)\n",
    "train_accuracies.append(train_accuracy2)\n",
    "test_losses.append(test_loss2)\n",
    "test_accuracies.append(test_accuracy2)\n",
    "param_num.append(num_param2)"
   ]
  },
  {
   "cell_type": "code",
   "execution_count": 11,
   "id": "b11e231f-06d9-499d-98bc-34d1f0a0265a",
   "metadata": {},
   "outputs": [
    {
     "name": "stdout",
     "output_type": "stream",
     "text": [
      "0.12748681035822135 0.96395 0.12984450420091867 0.9617 44140\n"
     ]
    }
   ],
   "source": [
    "model3 = Net3()\n",
    "train_loss3, train_accuracy3, test_loss3, test_accuracy3,  num_param3 = loss_accu(model3)\n",
    "print(train_loss3, train_accuracy3, test_loss3, test_accuracy3,  num_param3)"
   ]
  },
  {
   "cell_type": "code",
   "execution_count": 12,
   "id": "1bf6da55-3143-4b43-a4ab-0ca9e2cd5e95",
   "metadata": {},
   "outputs": [],
   "source": [
    "train_losses.append(train_loss3)\n",
    "train_accuracies.append(train_accuracy3)\n",
    "test_losses.append(test_loss3)\n",
    "test_accuracies.append(test_accuracy3)\n",
    "param_num.append(num_param3)"
   ]
  },
  {
   "cell_type": "code",
   "execution_count": 13,
   "id": "34cf91a6-2549-4ae6-bc0c-0c7d82be6dfd",
   "metadata": {},
   "outputs": [
    {
     "name": "stdout",
     "output_type": "stream",
     "text": [
      "0.1251437484141765 0.9635166666666667 0.13130931536056054 0.9601 65494\n"
     ]
    }
   ],
   "source": [
    "model4 = Net4()\n",
    "train_loss4, train_accuracy4, test_loss4, test_accuracy4, num_param4 = loss_accu(model4)\n",
    "print(train_loss4, train_accuracy4, test_loss4, test_accuracy4,  num_param4)\n",
    "train_losses.append(train_loss4)\n",
    "train_accuracies.append(train_accuracy4)\n",
    "test_losses.append(test_loss4)\n",
    "test_accuracies.append(test_accuracy4)\n",
    "param_num.append(num_param4)"
   ]
  },
  {
   "cell_type": "code",
   "execution_count": 14,
   "id": "5462fd83-a945-48db-a521-9c2351a0edb2",
   "metadata": {},
   "outputs": [
    {
     "name": "stdout",
     "output_type": "stream",
     "text": [
      "0.11418937410372915 0.9674166666666667 0.11529327431919088 0.9656 98490\n"
     ]
    }
   ],
   "source": [
    "model5 = Net5()\n",
    "train_loss5, train_accuracy5, test_loss5, test_accuracy5, num_param5 = loss_accu(model5)\n",
    "print(train_loss5, train_accuracy5, test_loss5, test_accuracy5,  num_param5)\n",
    "train_losses.append(train_loss5)\n",
    "train_accuracies.append(train_accuracy5)\n",
    "test_losses.append(test_loss5)\n",
    "test_accuracies.append(test_accuracy5)\n",
    "param_num.append(num_param5)"
   ]
  },
  {
   "cell_type": "code",
   "execution_count": 15,
   "id": "65123727-ae61-4966-968e-ed5b6db6d7c6",
   "metadata": {},
   "outputs": [
    {
     "name": "stdout",
     "output_type": "stream",
     "text": [
      "0.11001563387940815 0.9688833333333333 0.11546081687163585 0.965 158010\n"
     ]
    }
   ],
   "source": [
    "model6 = Net6()\n",
    "train_loss6, train_accuracy6, test_loss6, test_accuracy6, num_param6 = loss_accu(model6)\n",
    "print(train_loss6, train_accuracy6, test_loss6, test_accuracy6,  num_param6)\n",
    "train_losses.append(train_loss6)\n",
    "train_accuracies.append(train_accuracy6)\n",
    "test_losses.append(test_loss6)\n",
    "test_accuracies.append(test_accuracy6)\n",
    "param_num.append(num_param6)"
   ]
  },
  {
   "cell_type": "code",
   "execution_count": 16,
   "id": "84e5f2d9-e46a-468e-8601-68638310b385",
   "metadata": {},
   "outputs": [
    {
     "name": "stdout",
     "output_type": "stream",
     "text": [
      "0.10448749458639701 0.9698833333333333 0.10671411830765806 0.9673 230860\n"
     ]
    }
   ],
   "source": [
    "model7 = Net7()\n",
    "train_loss7, train_accuracy7, test_loss7, test_accuracy7, num_param7 = loss_accu(model7)\n",
    "print(train_loss7, train_accuracy7, test_loss7, test_accuracy7,  num_param7)\n",
    "train_losses.append(train_loss7)\n",
    "train_accuracies.append(train_accuracy7)\n",
    "test_losses.append(test_loss7)\n",
    "test_accuracies.append(test_accuracy7)\n",
    "param_num.append(num_param7)"
   ]
  },
  {
   "cell_type": "code",
   "execution_count": 17,
   "id": "65f2624c-4fe2-4348-9197-3e44711bac30",
   "metadata": {},
   "outputs": [
    {
     "name": "stdout",
     "output_type": "stream",
     "text": [
      "0.10153978259892447 0.9709166666666667 0.10672601259604192 0.9666 301360\n"
     ]
    }
   ],
   "source": [
    "model8 = Net8()\n",
    "train_loss8, train_accuracy8, test_loss8, test_accuracy8, num_param8 = loss_accu(model8)\n",
    "print(train_loss8, train_accuracy8, test_loss8, test_accuracy8,  num_param8)\n",
    "train_losses.append(train_loss8)\n",
    "train_accuracies.append(train_accuracy8)\n",
    "test_losses.append(test_loss8)\n",
    "test_accuracies.append(test_accuracy8)\n",
    "param_num.append(num_param8)"
   ]
  },
  {
   "cell_type": "code",
   "execution_count": 18,
   "id": "b852cd93-ecc7-462d-a580-cfcf96e507b4",
   "metadata": {},
   "outputs": [
    {
     "name": "stdout",
     "output_type": "stream",
     "text": [
      "0.10043819408331599 0.9710666666666666 0.1048464329592931 0.9688 379860\n"
     ]
    }
   ],
   "source": [
    "model9 = Net9()\n",
    "train_loss9, train_accuracy9, test_loss9, test_accuracy9, num_param9 = loss_accu(model9)\n",
    "print(train_loss9, train_accuracy9, test_loss9, test_accuracy9,  num_param9)\n",
    "train_losses.append(train_loss9)\n",
    "train_accuracies.append(train_accuracy9)\n",
    "test_losses.append(test_loss9)\n",
    "test_accuracies.append(test_accuracy9)\n",
    "param_num.append(num_param9)"
   ]
  },
  {
   "cell_type": "code",
   "execution_count": 19,
   "id": "2d3a3c7f-c9ab-40e6-ac9e-1048c90c6609",
   "metadata": {},
   "outputs": [
    {
     "name": "stdout",
     "output_type": "stream",
     "text": [
      "0.09876583890218947 0.9720166666666666 0.10494869034500069 0.9679 437660\n"
     ]
    }
   ],
   "source": [
    "model10 = Net10()\n",
    "train_loss10, train_accuracy10, test_loss10, test_accuracy10, num_param10 = loss_accu(model10)\n",
    "print(train_loss10, train_accuracy10, test_loss10, test_accuracy10,  num_param10)\n",
    "train_losses.append(train_loss10)\n",
    "train_accuracies.append(train_accuracy10)\n",
    "test_losses.append(test_loss10)\n",
    "test_accuracies.append(test_accuracy10)\n",
    "param_num.append(num_param10)"
   ]
  },
  {
   "cell_type": "code",
   "execution_count": 20,
   "id": "41a7facf-658a-487c-9922-cbfc51fe059f",
   "metadata": {},
   "outputs": [
    {
     "name": "stdout",
     "output_type": "stream",
     "text": [
      "[0.23964047161447014, 0.16253455404405762, 0.12984450420091867, 0.13130931536056054, 0.11529327431919088, 0.11546081687163585, 0.10671411830765806, 0.10672601259604192, 0.1048464329592931, 0.10494869034500069]\n"
     ]
    }
   ],
   "source": [
    "print(test_losses)"
   ]
  },
  {
   "cell_type": "code",
   "execution_count": 21,
   "id": "89b89633-65c5-4d0a-9d96-160d61abcf1d",
   "metadata": {},
   "outputs": [
    {
     "data": {
      "image/png": "[encoded data removed]",
      "text/plain": [
       "<Figure size 720x576 with 1 Axes>"
      ]
     },
     "metadata": {
      "needs_background": "light"
     },
     "output_type": "display_data"
    }
   ],
   "source": [
    "plt.figure(figsize=(10,8))\n",
    "plt.scatter(param_num, train_losses, color = \"g\")\n",
    "plt.scatter(param_num, test_losses, color = \"b\")\n",
    "plt.title('Loss Comparision')\n",
    "plt.legend(['Train', 'Test'])\n",
    "plt.xlabel('Parameter numbers')\n",
    "plt.ylabel('Loss')\n",
    "plt.show()\n"
   ]
  },
  {
   "cell_type": "code",
   "execution_count": 22,
   "id": "40cce00e-2841-4aab-845b-b57b3d05dc53",
   "metadata": {},
   "outputs": [
    {
     "data": {
      "image/png": "[encoded data removed]",
      "text/plain": [
       "<Figure size 720x576 with 1 Axes>"
      ]
     },
     "metadata": {
      "needs_background": "light"
     },
     "output_type": "display_data"
    }
   ],
   "source": [
    "plt.figure(figsize=(10,8))\n",
    "plt.scatter(param_num, train_accuracies, color = \"g\")\n",
    "plt.scatter(param_num, test_accuracies, color = \"b\")\n",
    "plt.title('Accuracy Comparision')\n",
    "plt.legend(['Train', 'Test'])\n",
    "plt.xlabel('Parameter numbers')\n",
    "plt.ylabel('Accuracy')\n",
    "plt.show()\n"
   ]
  },
  {
   "cell_type": "code",
   "execution_count": null,
   "id": "6904281e-30cf-486c-bb4d-e13cd9d0b6fe",
   "metadata": {},
   "outputs": [],
   "source": []
  },
  {
   "cell_type": "code",
   "execution_count": null,
   "id": "66940645-c819-424d-a731-47ce4067b433",
   "metadata": {},
   "outputs": [],
   "source": []
  },
  {
   "cell_type": "code",
   "execution_count": null,
   "id": "c30501ae-4e51-4af1-8fc0-11a4ae59d22f",
   "metadata": {},
   "outputs": [],
   "source": []
  },
  {
   "cell_type": "code",
   "execution_count": null,
   "id": "dec548bf-9684-4e00-991d-f411d6512802",
   "metadata": {},
   "outputs": [],
   "source": []
  },
  {
   "cell_type": "code",
   "execution_count": null,
   "id": "f674e84f-7756-47f2-a3f3-3a01181681a7",
   "metadata": {},
   "outputs": [],
   "source": []
  },
  {
   "cell_type": "code",
   "execution_count": null,
   "id": "989d2296-02c8-4bfb-8c21-681a7d7f39d5",
   "metadata": {},
   "outputs": [],
   "source": []
  },
  {
   "cell_type": "code",
   "execution_count": null,
   "id": "a7a616cd-e198-4ca9-9a86-b2039a2c3c11",
   "metadata": {},
   "outputs": [],
   "source": []
  }
 ],
 "metadata": {
  "kernelspec": {
   "display_name": "Python 3 (ipykernel)",
   "language": "python",
   "name": "python3"
  },
  "language_info": {
   "codemirror_mode": {
    "name": "ipython",
    "version": 3
   },
   "file_extension": ".py",
   "mimetype": "text/x-python",
   "name": "python",
   "nbconvert_exporter": "python",
   "pygments_lexer": "ipython3",
   "version": "3.9.12"
  }
 },
 "nbformat": 4,
 "nbformat_minor": 5
}
