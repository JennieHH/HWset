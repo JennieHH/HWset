{
 "cells": [
  {
   "cell_type": "code",
   "execution_count": 1,
   "id": "0dc84a23-fc1d-4672-879a-8b41d08ce653",
   "metadata": {},
   "outputs": [],
   "source": [
    "import torch\n",
    "import torchvision\n",
    "import torch.nn as nn\n",
    "import torch.nn.functional as F\n",
    "import torch.optim as optim\n",
    "from torchvision import datasets, transforms\n",
    "import matplotlib.pyplot as plt"
   ]
  },
  {
   "cell_type": "code",
   "execution_count": 2,
   "id": "db668a34-d293-4fef-879c-8bd2c33f3053",
   "metadata": {},
   "outputs": [],
   "source": [
    "transform = transforms.Compose([transforms.ToTensor(),transforms.Normalize((0.1307,), (0.3081,)),])\n",
    "\n",
    "train_dataset = torchvision.datasets.MNIST(root='./data', train=True, download=True, transform=transform)\n",
    "test_dataset = torchvision.datasets.MNIST(root='./data', train=False, download=True, transform=transform)\n",
    "mnist_test = torch.utils.data.DataLoader(test_dataset, batch_size=64, shuffle=True)"
   ]
  },
  {
   "cell_type": "code",
   "execution_count": 3,
   "id": "25caf997-77fa-451b-9b9f-3163b931da88",
   "metadata": {},
   "outputs": [],
   "source": [
    "class CNN(nn.Module):\n",
    "    def __init__(self):\n",
    "        super().__init__()\n",
    "        self.conv1 = nn.Conv2d(1, 32, 3, padding=1)\n",
    "        self.conv2 = nn.Conv2d(32, 64, 3, padding=1)\n",
    "        self.fc1 = nn.Linear(64 * 7 * 7, 128)\n",
    "        self.fc2 = nn.Linear(128, 10)\n",
    "        \n",
    "    def forward(self, x):\n",
    "        x = F.relu(self.conv1(x))\n",
    "        x = F.max_pool2d(x, 2, 2)\n",
    "        x = F.relu(self.conv2(x))\n",
    "        x = F.max_pool2d(x, 2, 2)\n",
    "        x = x.view(x.size(0), -1)\n",
    "        x = F.relu(self.fc1(x))\n",
    "        x = self.fc2(x)\n",
    "        return x"
   ]
  },
  {
   "cell_type": "code",
   "execution_count": 20,
   "id": "ccabb6a1-bc1a-4a0a-83ed-e13245a00200",
   "metadata": {},
   "outputs": [],
   "source": [
    "def loss_accu(model, rate, b_size):\n",
    "    train_losses = []\n",
    "    train_accuracies = []\n",
    "    test_losses = []\n",
    "    test_accuracies = []\n",
    "    mnist_train = torch.utils.data.DataLoader(train_dataset, batch_size = b_size, shuffle=True)\n",
    "    criterion = nn.CrossEntropyLoss()\n",
    "    optimizer = optim.SGD(model.parameters(), lr = rate)\n",
    "    \n",
    "    \n",
    "    for epoch in range(6):\n",
    "        running_loss = 0.0\n",
    "        running_correct = 0\n",
    "        for i, data in enumerate(mnist_train, 0):\n",
    "            inputs, labels = data\n",
    "            optimizer.zero_grad()\n",
    "            outputs = model(inputs)\n",
    "            loss = criterion(outputs, labels)\n",
    "            loss.backward()\n",
    "            optimizer.step()\n",
    "            running_loss += loss.item()\n",
    "            _, predicted = torch.max(outputs.data, 1)\n",
    "            running_correct += (predicted == labels).sum().item()\n",
    "        train_loss = (running_loss / len(mnist_train))\n",
    "        train_losses.append(train_loss)\n",
    "        train_accuracy = (running_correct / len(mnist_train.dataset))\n",
    "        train_accuracies.append(train_accuracy)\n",
    "    \n",
    "        test_loss = 0.0\n",
    "        test_correct = 0\n",
    "        with torch.no_grad():\n",
    "            for data in mnist_test:\n",
    "                inputs, labels = data\n",
    "                outputs = model(inputs)\n",
    "                loss = criterion(outputs, labels)\n",
    "                test_loss += loss.item()\n",
    "                _, predicted = torch.max(outputs.data, 1)\n",
    "                test_correct += (predicted == labels).sum().item()\n",
    "        test_loss /= len(mnist_test)\n",
    "        test_losses.append(test_loss)\n",
    "        test_accuracy = test_correct / len(mnist_test.dataset)\n",
    "        test_accuracies.append(test_accuracy)\n",
    "        #print(train_loss, train_accuracy)\n",
    "    return train_losses, train_accuracies, test_losses, test_accuracies"
   ]
  },
  {
   "cell_type": "code",
   "execution_count": 5,
   "id": "6d978e96-a929-473d-aac7-a64ec0cea220",
   "metadata": {},
   "outputs": [
    {
     "name": "stdout",
     "output_type": "stream",
     "text": [
      " Batch Size 64\n"
     ]
    }
   ],
   "source": [
    "batch64 = CNN()\n",
    "print(\" Batch Size 64\")\n",
    "train_losses1, train_accuracies1, test_losses1, test_accuracies1 = loss_accu(batch64, rate=0.001, b_size=64)\n"
   ]
  },
  {
   "cell_type": "code",
   "execution_count": 6,
   "id": "4430737e-6e4f-42b6-892f-c0d8b7aba7ce",
   "metadata": {},
   "outputs": [
    {
     "name": "stdout",
     "output_type": "stream",
     "text": [
      " Batch Size 1024\n"
     ]
    }
   ],
   "source": [
    "batch1024 = CNN()\n",
    "print(\" Batch Size 1024\")\n",
    "train_losses2, train_accuracies2, test_losses2, test_accuracies2 = loss_accu(batch1024, rate=0.001, b_size=1024)"
   ]
  },
  {
   "cell_type": "code",
   "execution_count": 7,
   "id": "6705b124-14b3-4b09-9313-3a3964b574ef",
   "metadata": {},
   "outputs": [],
   "source": [
    "params64 = torch.nn.utils.parameters_to_vector(batch64.parameters())\n",
    "params1024 = torch.nn.utils.parameters_to_vector(batch1024.parameters())"
   ]
  },
  {
   "cell_type": "code",
   "execution_count": 8,
   "id": "a1c4e856-a63e-4aa1-b83d-b44482f66b72",
   "metadata": {},
   "outputs": [
    {
     "name": "stdout",
     "output_type": "stream",
     "text": [
      "-1.0\n",
      "0.10033393445937806 0.97105 0.502484339625718 0.9422\n",
      "-0.85\n",
      "0.09926280231790434 0.9706166666666667 0.5235562743678405 0.9199\n",
      "-0.7\n",
      "0.10260869992642736 0.9687333333333333 0.31844182136382576 0.948\n",
      "-0.5499999999999999\n",
      "0.10823393844491018 0.9679833333333333 0.2692414595549748 0.9447\n",
      "-0.3999999999999999\n",
      "0.11740720683414894 0.9653833333333334 0.23175933449321492 0.944\n",
      "-0.2499999999999999\n",
      "0.12998428474515994 0.96155 0.22618238580454686 0.9392\n",
      "-0.09999999999999987\n",
      "0.1466056514086563 0.9574 0.19678159983484608 0.9404\n",
      "0.050000000000000266\n",
      "0.16556205378094715 0.9515166666666667 0.22707860447039271 0.9352\n",
      "0.20000000000000018\n",
      "0.18529493320407645 0.9461 0.27908112089725057 0.9262\n",
      "0.3500000000000001\n",
      "0.20768823365428682 0.9390166666666667 0.3468316974723415 0.9124\n",
      "0.5000000000000002\n",
      "0.23550356988475393 0.9303 0.44156600781686745 0.8954\n",
      "0.6500000000000004\n",
      "0.2646721187653318 0.9214 0.5964981336502513 0.8599\n",
      "0.8000000000000003\n",
      "0.2724833393544912 0.9187166666666666 0.7573689605779709 0.8214\n",
      "0.9500000000000002\n",
      "0.2463107373493948 0.9278 0.6813984243733109 0.8374\n",
      "1.1000000000000005\n",
      "0.21607470012772312 0.9376 0.5419180239461789 0.8722\n",
      "1.2500000000000004\n",
      "0.18785447249613973 0.9454166666666667 0.43812540382336657 0.8959\n",
      "1.4000000000000004\n",
      "0.16450246395285067 0.953 0.36900348088164237 0.905\n",
      "1.5500000000000003\n",
      "0.14531535038680854 0.9587333333333333 0.316781171188233 0.9199\n",
      "1.7000000000000002\n",
      "0.12946850460952025 0.9636166666666667 0.2789334112861354 0.9261\n",
      "1.8500000000000005\n",
      "0.11515647850469994 0.9678166666666667 0.2488112083286237 0.9323\n",
      "2.0000000000000004\n",
      "0.10513108391473606 0.9702666666666667 0.2230154783672588 0.9377\n"
     ]
    }
   ],
   "source": [
    "import numpy as np\n",
    "Alpha = np.arange(-1,2.15,0.15)\n",
    "Train_Losses = []\n",
    "Train_Accu = []\n",
    "Test_Losses = []\n",
    "Test_Accu = []\n",
    "\n",
    "for i in range(len(Alpha)):\n",
    "    print(Alpha[i])\n",
    "    param_new = (1 - Alpha[i]) * params64 + Alpha[i] * params1024\n",
    "    model = CNN()\n",
    "    torch.nn.utils.vector_to_parameters(param_new, model.parameters())\n",
    "    train_losses, train_accuracies, test_losses, test_accuracies = loss_accu(model, rate=0.001, b_size=64)\n",
    "    print(min(train_losses),train_accuracies[-1],test_losses[0],test_accuracies[0])\n",
    "    Train_Losses.append(min(train_losses))\n",
    "    Train_Accu.append(train_accuracies[-1])\n",
    "    \n",
    "    Test_Losses.append(test_losses[0])\n",
    "    Test_Accu.append(test_accuracies[0])\n"
   ]
  },
  {
   "cell_type": "code",
   "execution_count": 9,
   "id": "4797b666-9914-41b5-bc24-8f5b679f5ce1",
   "metadata": {},
   "outputs": [
    {
     "data": {
      "image/png": "[encoded data removed]",
      "text/plain": [
       "<Figure size 432x288 with 2 Axes>"
      ]
     },
     "metadata": {
      "needs_background": "light"
     },
     "output_type": "display_data"
    }
   ],
   "source": [
    "fig, ax1 = plt.subplots()\n",
    "ax2 = ax1.twinx()\n",
    "ax1.plot(Alpha, Train_Losses, 'b', label='train')\n",
    "ax1.plot(Alpha, Test_Losses, 'b--', label='test')\n",
    "ax2.plot(Alpha, Train_Accu, 'r', label='train')\n",
    "ax2.plot(Alpha, Test_Accu, 'r--', label='test')\n",
    "ax1.set_xlabel('alpha')\n",
    "ax1.set_ylabel('loss', color='b')\n",
    "ax2.set_ylabel('accuracy', color='r')\n",
    "ax1.legend()\n",
    "ax2.legend(loc='upper right')\n",
    "ax1.set_title('Model with Different Batch Sizes')"
   ]
  },
  {
   "cell_type": "code",
   "execution_count": 10,
   "id": "12d39da1-2a4f-47fa-9cf2-aebe19432295",
   "metadata": {},
   "outputs": [
    {
     "name": "stdout",
     "output_type": "stream",
     "text": [
      "learning rate 0.01\n"
     ]
    }
   ],
   "source": [
    "##Different learning rate\n",
    "\n",
    "rate001 = CNN()\n",
    "print(\"learning rate 0.01\")\n",
    "train_losses3, train_accuracies3, test_losses3, test_accuracies3 = loss_accu(rate001, rate=0.01, b_size=64)"
   ]
  },
  {
   "cell_type": "code",
   "execution_count": 16,
   "id": "0c0579c3-5fa3-4f1f-a5e6-9a2de286dc10",
   "metadata": {},
   "outputs": [
    {
     "name": "stdout",
     "output_type": "stream",
     "text": [
      "learning rate 0.001\n"
     ]
    }
   ],
   "source": [
    "rate0001 = CNN()\n",
    "print(\"learning rate 0.001\")\n",
    "train_losses4, train_accuracies4, test_losses4, test_accuracies4 = loss_accu(rate0001, rate=0.001, b_size=64)"
   ]
  },
  {
   "cell_type": "code",
   "execution_count": 17,
   "id": "e2f9f922-af44-43a9-a591-8b5ab5d15dd6",
   "metadata": {},
   "outputs": [],
   "source": [
    "params001 = torch.nn.utils.parameters_to_vector(rate001.parameters())\n",
    "params0001 = torch.nn.utils.parameters_to_vector(rate0001.parameters())"
   ]
  },
  {
   "cell_type": "code",
   "execution_count": 21,
   "id": "ec630959-07f7-4072-ae52-c47d3ebd0773",
   "metadata": {},
   "outputs": [
    {
     "name": "stdout",
     "output_type": "stream",
     "text": [
      "-1.0\n",
      "0.21507032342526392 0.9844666666666667 0.23122717022402034 0.9849\n",
      "-0.85\n",
      "0.16619175901130998 0.985 0.1733089020658842 0.984\n",
      "-0.7\n",
      "0.12390530736513598 0.98535 0.12877563796659172 0.9853\n",
      "-0.5499999999999999\n",
      "0.092644303228086 0.9855833333333334 0.09778228876648173 0.9855\n",
      "-0.3999999999999999\n",
      "0.06802433074863011 0.986 0.06515227555852689 0.9858\n",
      "-0.2499999999999999\n",
      "0.051025104119547214 0.9868166666666667 0.04899160134818364 0.9866\n",
      "-0.09999999999999987\n",
      "0.04323378874367894 0.9871166666666666 0.04134836220805337 0.9866\n",
      "0.050000000000000266\n",
      "0.05040076025860952 0.98625 0.04874435577328038 0.9849\n",
      "0.20000000000000018\n",
      "0.08341858780452374 0.9814166666666667 0.08425109960423534 0.9823\n",
      "0.3500000000000001\n",
      "0.1401517082140771 0.9697833333333333 0.151441564747862 0.9708\n",
      "0.5000000000000002\n",
      "0.23043360805778362 0.9420666666666667 0.2584269629542235 0.9429\n",
      "0.6500000000000004\n",
      "0.30502559174733884 0.9162833333333333 0.324039370770667 0.9171\n",
      "0.8000000000000003\n",
      "0.2800133812910458 0.9212333333333333 0.286489484036804 0.9236\n",
      "0.9500000000000002\n",
      "0.2387000668500024 0.9307666666666666 0.23513643600189002 0.9342\n",
      "1.1000000000000005\n",
      "0.21078769891246804 0.9367 0.20743962360700224 0.938\n",
      "1.2500000000000004\n",
      "0.20289875549881825 0.9408333333333333 0.2119760906003463 0.9378\n",
      "1.4000000000000004\n",
      "0.2075804051663131 0.9431666666666667 0.23373079896685045 0.9413\n",
      "1.5500000000000003\n",
      "0.21531738610719758 0.9453166666666667 0.2681982194186206 0.9374\n",
      "1.7000000000000002\n",
      "0.23486931032455488 0.9442833333333334 0.31630113970037477 0.9372\n",
      "1.8500000000000005\n",
      "0.25569805142277086 0.9460666666666666 0.31119642555001814 0.9449\n",
      "2.0000000000000004\n",
      "0.2760385220524357 0.9475833333333333 0.37536015743715984 0.9427\n"
     ]
    }
   ],
   "source": [
    "Alpha1 = np.arange(-1,2.15,0.15)\n",
    "Train_Losses1 = []\n",
    "Train_Accu1 = []\n",
    "Test_Losses1 = []\n",
    "Test_Accu1 = []\n",
    "\n",
    "for i in range(len(Alpha1)):\n",
    "    print(Alpha1[i])\n",
    "    param_new1 = (1 - Alpha1[i]) * params001 + Alpha1[i] * params0001\n",
    "    model = CNN()\n",
    "    torch.nn.utils.vector_to_parameters(param_new1, model.parameters())\n",
    "    train_losses, train_accuracies, test_losses, test_accuracies = loss_accu(model, rate=0.001, b_size=64)\n",
    "    print(min(train_losses),train_accuracies[-1],test_losses[0],test_accuracies[0])\n",
    "    Train_Losses1.append(min(train_losses))\n",
    "    Train_Accu1.append(train_accuracies[-1])\n",
    "    \n",
    "    Test_Losses1.append(test_losses[0])\n",
    "    Test_Accu1.append(test_accuracies[0])\n"
   ]
  },
  {
   "cell_type": "code",
   "execution_count": 23,
   "id": "078f96a5-1df0-4d2e-8079-1ec18d98f756",
   "metadata": {},
   "outputs": [
    {
     "data": {
      "text/plain": [
       "Text(0.5, 1.0, 'Learning Rate 0.01 vs 0.001')"
      ]
     },
     "execution_count": 23,
     "metadata": {},
     "output_type": "execute_result"
    },
    {
     "data": {
      "image/png": "[encoded data removed]",
      "text/plain": [
       "<Figure size 432x288 with 2 Axes>"
      ]
     },
     "metadata": {
      "needs_background": "light"
     },
     "output_type": "display_data"
    }
   ],
   "source": [
    "fig, ax1 = plt.subplots()\n",
    "ax2 = ax1.twinx()\n",
    "ax1.plot(Alpha1, Train_Losses1, 'b', label='train')\n",
    "ax1.plot(Alpha1, Test_Losses1, 'b--', label='test')\n",
    "ax2.plot(Alpha1, Train_Accu1, 'r', label='train')\n",
    "ax2.plot(Alpha1, Test_Accu1, 'r--', label='test')\n",
    "ax1.set_xlabel('alpha')\n",
    "ax1.set_ylabel('loss', color='b')\n",
    "ax2.set_ylabel('accuracy', color='r')\n",
    "ax1.legend()\n",
    "ax2.legend(loc='upper right')\n",
    "ax1.set_title('Learning Rate 0.01 vs 0.001')"
   ]
  },
  {
   "cell_type": "code",
   "execution_count": null,
   "id": "4d9c52b4-fd08-422a-b51a-e6f4fd233197",
   "metadata": {},
   "outputs": [],
   "source": []
  }
 ],
 "metadata": {
  "kernelspec": {
   "display_name": "Python 3 (ipykernel)",
   "language": "python",
   "name": "python3"
  },
  "language_info": {
   "codemirror_mode": {
    "name": "ipython",
    "version": 3
   },
   "file_extension": ".py",
   "mimetype": "text/x-python",
   "name": "python",
   "nbconvert_exporter": "python",
   "pygments_lexer": "ipython3",
   "version": "3.9.12"
  }
 },
 "nbformat": 4,
 "nbformat_minor": 5
}
